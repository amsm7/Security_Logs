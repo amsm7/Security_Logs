    import numpy as np
    import matplotlib.pyplot as plt
    import pandas as pd
    import random


    def quick_note():
        """ **Note: Output of each step will be the top 30 rows of the data frame.
        You can see the whole data frame at the end, in CSV format file.
        Thank U and enjoy :)"""

        print("-------------------------------------------------------------------------------------------------------")
        print(quick_note.__doc__)
        print("------------------------------------------------------------------------------------------------------")

    def original_data_frame(df):
        """Step 1: Showing the first 30 rows of the original data frame."""
        print(original_data_frame.__doc__)
        print("------------------------------------------------------------------------------------")
        print(df.head(30))

    def create_and_mix_data(df):
        """Step 2: Creating and mixing new and wrong formats of data.
             1. Creating and filling new 'Event Code' column with random values,
                instead of unique ones.
             2. Creating and filing new 'Action' column with wrong data types.
             3. Subtract 'Total events' column values by 1000 (some will become negative."""

        event_code = np.array(['#2082', '#22878', '#2082', '#5053', '#9063', "#4852", None])
        df['Event Code'] = np.random.choice(event_code, 10000)

        action = np.array([False, None, 'No action', True, 567, '#123', 99])
        df['Action'] = np.random.choice(action, 10000)

        df['Total Events'] = df['Total Events'] - 1000

        print(create_and_mix_data.__doc__)
        print("-------------------------------------------------------------------------"
              "-----------------------------------------------------------------------")
        print(df.head(30))

    def filling_nulls(df):
        """Step 3: Filling  'NaN' Values with 'dump!' value."""

        df.fillna('dump!', inplace=True)

        print(filling_nulls.__doc__)
        print("--------------------------------------------------------"
              "-----------------------------------------------------")
        print(df.head(30))

    def delete_values(df):
        """Step 4: Deleting every 'dump!' value from 'Event Type' column. """

        df.drop(df.index[df['Event Type'] == 'dump!'], inplace=True)
        print(delete_values.__doc__)
        print("---------------------------------------------------------"
              "---------------------------------------------------------")
        print(df.head(30))

    def delete_negatives(df):
        """Step 5: Deleting all negative values from 'Total Events' column."""

        df = df.loc[df['Total Events'] >= 0]
        print(delete_negatives.__doc__)
        print("------------------------------------------------------------------------------")
        print(df.head(30))

    def new_data_frame(new_df):
        """Step 6: Creating new Data frame and print it. """

        print(new_data_frame.__doc__)
        print("------------------------------------------------------------------------------")
        print(new_df.head(30))

    def mapping_event_code(df, df_2):
        """Step 7: Mapping new data frame values.
             1. 'Mapping correct 'Event Code' column values from the new data frame,
                 that matches to their 'Event Type' value, instead of the original wrong values ."""

        df.loc[df['Event Type'] == df_2['Event Type'][0], 'Event Code'] = df_2['Event Code'][0]
        df.loc[df['Event Type'] == df_2['Event Type'][1], 'Event Code'] = df_2['Event Code'][1]
        df.loc[df['Event Type'] == df_2['Event Type'][2], 'Event Code'] = df_2['Event Code'][2]

        print(mapping_event_code.__doc__)
        print("------------------------------------------------------------------------------")
        print(df.head(30))

    def mapping_action(df, df_2):
        """Step 8: Mapping new data frame values.
             1. 'Mapping correct 'Action' column values from the new data frame,
             instead of the original wrong values, that matches to their 'Event Code' value."""

        df.loc[df['Event Code'] == df_2['Event Code'][0], 'Action'] = df_2['Action'][0]
        df.loc[df['Event Code'] == df_2['Event Code'][1], 'Action'] = df_2['Action'][1]
        df.loc[df['Event Code'] == df_2['Event Code'][2], 'Action'] = df_2['Action'][2]

        print(mapping_action.__doc__)
        print("------------------------------------------------------------------------------")
        print(df.head(30).to_string())

    def switching_columns(df):
        """Step 9: Switch columns positions in the data frame. """
        event_code_column = df.pop('Event Code')
        df.insert(2, 'Event Code', event_code_column)

        print(switching_columns.__doc__)
        print("------------------------------------------------------------------------------")
        print(df.head(30).to_string())

    def removing_duplicate_rows(df):
        """Step 10: Removing Duplicated rows in data frame and keep the first appearance.
              * Filtering is done based on columns 'Host' ,'Date' and 'Event Type' values. """

        old_host_count = df['Event Type'].value_counts()
        df = df.drop_duplicates(
            subset=['Host', 'Date', 'Event Type'],
            keep='first').reset_index(drop=True)
        print(removing_duplicate_rows.__doc__)
        print("---------------------------------------------------")

        print("The difference:")
        print(f"Before removing duplicates: \n{old_host_count}")
        print("---------------------------------------------------")
        print(f"After removing duplicates: \n{df['Event Type'].value_counts()}")
        print("---------------------------------------------------")

    def printing_specific_column(df):
        """Step 11: Showing specific column that the user will choose,
            counting and showing each value in it."""

        print("---------------------------------------------------------------------------------------------")
        print(printing_specific_column.__doc__)
        print("---------------------------------------------------------------------------------------------")

        count = 4
        titles = list(df.columns.values)
        for val in titles:
            print(f"{val}. ")
        print(" --------------------------------------------------")
        input_title = input("Enter the column you wish to see from the list: \n")
        while input_title not in titles:
            if count > 0:
                print(f"You have {count} more tries.")
                input_title = input("Please try again :\n")
                count -= 1
            else:
                exit("too many tries, run the program again.")

        print(df[input_title].head(30).to_string())

        print(f"\n# of values for each column member.")
        print(" --------------------------------------------------")
        print(df[input_title].value_counts())

    def adding_spec_column(df):
        """Step 12: Adding a column to the table, at a specific and random position.
            'Check' column has been added and filled with 'to remove' values."""

        rand_num = random.randint(0, (len(df.columns) - 1))

        df.insert(rand_num, 'Check', 'to remove')

        print("---------------------------------------------------------------------------------------------")
        print(adding_spec_column.__doc__)
        print(f"         Added a column at index # {rand_num}.\n")
        print("---------------------------------------------------------------------------------------------")

        print(f"{df.head(30).to_string()} \n")

    def removing_spec_column(df):
        """Step 13: Removing 'Check' column, that has been added at step 12. """

        df.drop(columns='Check', inplace=True)

        print("------------------------------------------------------------------------------")
        print(removing_spec_column.__doc__)
        print("------------------------------------------------------------------------------")
        print(f"{df.head(30).to_string()} \n")

    def add_alert_column(df):
        """Step 14: Adding 'Alert' column which will categorize alert base on
             # of events in 'Total Events' column.
                1. if value in 'Total Events' column is equal or bigger than 1500 --> 'Red alert.
                2. if value in 'Total Events' column is between 500 to 1499) --> 'Orange alert.
                3. if value in 'Total Events' column is smaller than 500 --> 'Yellow alert.
        """

        conditions = [(df['Total Events'] >= 1500),
                      ((df['Total Events'] >= 500) & (df['Total Events'] < 1500)),
                      (df['Total Events'] < 500)]

        alerts = ["Red alert", "Orange alert", "Yellow alert"]
        df['Alert'] = np.select(conditions, alerts)

        print(add_alert_column.__doc__)
        print("------------------------------------------------------------------------------")
        print(f"{df.head(30).to_string()} \n")

    def describe(df):
        """Step 15: Showing statistical description of every columns in
          in the Data frame, only  if it contains a numerical data. """

        print(describe.__doc__)
        print("------------------------------------------------------------------------------")
        print(f"{df.describe().astype('int')} \n")

    def info(df):
        """Step 16: Showing the info of all columns in the data frame. """

        print(info.__doc__)
        print("------------------------------------------------------------------------------")
        print(f"{df.info()} \n")
        pass

    def save_to_csv(df):
        """Step 17: Saving the updated data frame to a CSV file."""
        df.to_csv('my_df.csv', encoding='utf-8', index=False)
        print(save_to_csv.__doc__)

        print("------------------------------------------------------------------------------")


    def end_program():
        exit("Thank U very much for being with us!")
        
    def create_new_df():
        """Creating new data frame."""

        new_data = [['Wrong Password', '#50768', "Add to 'pass.log' file."],
                    ['Invalid User', '#30667', "Add to 'user.log' file."],
                    ["'Long' Login", '#40834', 'Block user for 15 minutes.']]
        data_frame2 = pd.DataFrame(new_data,
                                   columns=['Event Type', 'Event Code', 'Action'])
        return data_frame2

    def user_option(df, user_input):
        """Check user input and call to certain functions according to it."""

        quick_note()
        new_df = df.copy()
        new_df2 = create_new_df()
        while user_input <= 17:
            check_user_awareness(user_input)
            print("------------------------------------------")
            print(f"Entered step # {user_input}")
            if user_input == 1:
                original_data_frame(new_df)
            elif user_input == 2:
                create_and_mix_data(new_df)
            elif user_input == 3:
                filling_nulls(new_df)
            elif user_input == 4:
                delete_values(new_df)
            elif user_input == 5:
                delete_negatives(new_df)
            elif user_input == 6:
                new_data_frame(new_df2)
            elif user_input == 7:
                mapping_event_code(new_df, new_df2)
            elif user_input == 8:
                mapping_action(new_df, new_df2)
            elif user_input == 9:
                switching_columns(new_df)
            elif user_input == 10:
                removing_duplicate_rows(new_df)
            elif user_input == 11:
                printing_specific_column(new_df)
            elif user_input == 12:
                adding_spec_column(new_df)
            elif user_input == 13:
                removing_spec_column(new_df)
            elif user_input == 14:
                add_alert_column(new_df)
            elif user_input == 15:
                describe(new_df)
            elif user_input == 16:
                info(new_df)
            elif user_input == 17:
                save_to_csv(new_df)
            user_input += 1

        print(" \n# All rights reserved - Amir Sillam --> November - December 2022 \n")
        print("Hope you enjoyed our program !")
        end_program()

    def check_user_awareness(check_input):
        """Checking user input"""

        tries = 4
        print("------------------------------------------")
        check_user = input("Are you ready to step # ")
        while int(check_user) != check_input:
            if tries != 0:
                print(f"You have {tries} more tries.")
                check_user = input("Please try again :\n")
                tries -= 1
            else:
                print("That was your last try.")
                print("You are with use or not ?")
                print(f"You have tried {tries + 5} times, that's the limit.")
                exit("Try again next time, Thank you.")


    def menu_input():
        """ User menu input."""
        message_start = 'Run the show!'
        print("---------------------------------------------------")
        print(f"Opening message is: {message_start}  ")
        print("---------------------------------------------------")
        user_input = input(" Please enter c-o-r-r-e-c-t-l-y the 'Opening message' ")
        count = 1
        while user_input != message_start:
            if count > 4:
                print(f"You have tried {count} times, that's the limit.")
                exit("Try again next time, Thank you.")
            count += 1
            print("Look for the 'opening message' at the beginning of the program.")
            user_input = input("Please enter the 'Opening message' ")

        return 1


    def options_menu():
        print("\n -------Security------Logs------By-----Amir----Sillam-----2022------ \n"
              "                                                                              \n"
              " 1. Show original Data Frame.\n"
              " 2. Make Data Frame messy (not messi :) )  \n"
              " 3. Filling every 'NaN' values with 'dump!' string type value.\n"
              " 4. Deleting every 'dump!' value from 'Event Type' column.\n"
              " 5. Deleting every negative value from 'Total Events' column.\n"
              " 6. Create new Data frame. \n"
              " 7. Mapping values to 'Event Code' column from new Data frame.\n"
              " 8. Mapping values to 'Action' column from new Data frame.\n"
              " 9. Switch columns positions in the data frame. \n"
              " 10. Removing Duplicated rows in data frame. \n"
              " 11. Showing specific column that the user will choose.\n"
              " 12. Adding a column to the data frame.\n"
              " 13. Removing a column at this specific position.\n"
              " 14. Adding 'Alert' column based on values from 'Total Events'.\n"
              " 15. Showing statistical description of numerical values.\n"
              " 16. Showing the info of all columns in the data frame.\n"
              " 17. Saving the updated data frame to a CSV file.\n"
              "----------------------------------------------------------------------------------------------")

    def instructions_menu():
        # Print program instructions .
        print("-------------------------------------------- \n "
              " ** Program instructions ** \n"
              ""
              "In this program, the user will see data frame\n"
              "with 'Nan' values, making data frame\n"
              "unorganized, with missing values.\n"
              "Remove 'wrong' and duplicated \n"
              "values and fill the data frame with new ones.\n"
              "Creating new columns, mapping from new data \n"
              "frame, showing data and save it to new CSV file.\n"
              "The user should be focused because in every step\n"
              "he should be aware of the steps(not of the stairs)\n"
              "that we are in the program, it's like a game to make the\n"
              "user more focused and to enjoy the program. \n"
              "In the program, like in life, there is no shortcuts to success :)\n"
              "You need to pass every step to complete the program.\n"
              "Enjoy the ride :)\n"
              "---------------------------------------------------------")

    def program_description():
        print("\n# All rights reserved - Amir Sillam --> November - December 2022 \n")
        # Print program description menu.
        print("--------------------------------------------------\n"
        "** Program description ** \n"
        "This program simulates a log file in which\n"
        "information is collected regarding failed\n"
        "login attempts to various websites\n"
        "and their documentation.\n"
        "--------------------------------------------------\n")

    # All rights reserved - Amir Sillam --> November - December 2022


    def run_program(df):

        program_description()
        instructions_menu()
        options_menu()

        user_input = menu_input()
        user_option(df, user_input)


    def creating_data_frame():
        """ Creating new Data frame with just column names. """
        data_frame = pd.DataFrame(
            columns=['Host', 'Event Type', 'Total Events', 'Date'])

        """Creating 3 NumPy arrays"""
        hosts = np.array(['host1', 'host2', 'host3', 'host4', 'host5',
                          'host6', 'host7', 'host8', 'host9', 'host10',
                          'host11', 'host12', 'host13', 'host14', 'host15',
                          'host16', 'host17', 'host18', 'host19', 'host20',
                          'host21', 'host22', 'host23', 'host24', 'host25'])
        event_type = np.array(['Wrong Password', 'Invalid User', "'Long' Login", None])
        random_dates = np.array(pd.date_range('2022/11/01', '2022/12/03'))

        """Filling the data frame with different data types."""
        data_frame['Host'] = np.random.choice(hosts, 10000)
        data_frame['Event Type'] = np.random.choice(event_type, 10000)
        data_frame['Total Events'] = np.random.randint(0, 3000, 10000)
        data_frame['Date'] = np.random.choice(random_dates, 10000)
        df_copy = data_frame.copy()
        run_program(df_copy)

    creating_data_frame()

